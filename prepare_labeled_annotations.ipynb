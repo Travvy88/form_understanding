{
 "cells": [
  {
   "cell_type": "code",
   "execution_count": 1,
   "id": "0bb1da0d",
   "metadata": {},
   "outputs": [],
   "source": [
    "import json\n",
    "import os"
   ]
  },
  {
   "cell_type": "code",
   "execution_count": 2,
   "id": "5fa908bc",
   "metadata": {},
   "outputs": [],
   "source": [
    "annotations_save_root = os.path.join(os.getcwd(), 'dataset', 'training_data', 'annotations')"
   ]
  },
  {
   "cell_type": "code",
   "execution_count": 3,
   "id": "e6510620",
   "metadata": {},
   "outputs": [],
   "source": [
    "# Открываем файл полученный из label-studio (export format: json-min)\n",
    "with open('/home/berkiu/work/project-2-at-2022-10-06-11-15-c47ffc3c.json', 'r') as f:\n",
    "    data = json.load(f)"
   ]
  },
  {
   "cell_type": "code",
   "execution_count": 4,
   "id": "1ff8cfa8",
   "metadata": {},
   "outputs": [],
   "source": [
    "class PrepareAnnotations():\n",
    "    def __init__(self, labeled_json_root):\n",
    "        self.ner_to_class = {'O': 'other',\n",
    "                             'B-QUESTION': 'question',\n",
    "                             'I-QUESTION': 'question',\n",
    "                             'B-ANSWER': 'answer',\n",
    "                             'I-ANSWER': 'answer',\n",
    "                             'B-HEADER': 'header',\n",
    "                             'I-HEADER': 'header'}\n",
    "        with open(labeled_json_root, 'r') as f:\n",
    "            self.data = json.load(f)\n",
    "    \n",
    "    @staticmethod\n",
    "    def unnormalize_bbox(bbox, width, height):\n",
    "        \"\"\"Returns unnormalized bbox [x_0, y_0, x_1, y_1] format.\"\"\"\n",
    "        x_0 = bbox[0] / 100 * width\n",
    "        y_0 = bbox[1] / 100 * height\n",
    "        x_1 = x_0 + bbox[2] / 100 * width\n",
    "        y_1 = y_0 + bbox[3] / 100 * height\n",
    "        return [x_0, y_0, x_1, y_1]\n",
    "    \n",
    "    def get_one_class(self, words, text, counter):\n",
    "        one_class = {}\n",
    "        min_x_0 = sorted(words, key=lambda x: x['box'][0])[0]['box'][0]\n",
    "        min_y_0 = sorted(words, key=lambda x: x['box'][1])[0]['box'][1]\n",
    "        max_x_1 = sorted(words, key=lambda x: x['box'][2])[-1]['box'][2]\n",
    "        max_y_1 = sorted(words, key=lambda x: x['box'][3])[-1]['box'][3]\n",
    "        one_class['box'] = [min_x_0, min_y_0, max_x_1, max_y_1]\n",
    "        one_class['text'] = text\n",
    "        one_class['label'] = self.ner_to_class[current_label]\n",
    "        one_class['words'] = words\n",
    "        one_class['id'] = counter\n",
    "        return one_class\n",
    "\n",
    "    def get_annotations(self):\n",
    "        for file in self.data:\n",
    "            file_name = file['ocr'][file['ocr'].find('-') + 1:file['ocr'].rfind('.')]\n",
    "            annotation = {'form': []}\n",
    "            words = []\n",
    "            text = ''\n",
    "            counter = 0\n",
    "            original_width = file['label'][0]['original_width']\n",
    "            original_height = file['label'][0]['original_height']\n",
    "            for idx, item in enumerate(file['label']):\n",
    "                current_label = item['labels'][0]\n",
    "                current_word = file['transcription'][idx]\n",
    "                current_bbox = [item['x'], item['y'], item['width'], item['height']]\n",
    "                unnormalized_bbox = self.unnormalize_bbox(current_bbox, original_width, original_height)\n",
    "                text += current_word\n",
    "                words.append({'text': current_word, 'box': unnormalized_bbox})\n",
    "                if idx != (len(file['label']) - 1):\n",
    "                    next_label = file['label'][idx + 1]['labels'][0]\n",
    "                else:\n",
    "                    one_class = get_one_class(words, text, counter)\n",
    "                    annotation['form'].append(one_class)\n",
    "                    break\n",
    "                if (next_label == current_label and ('B-' not in current_label and 'B-' not in next_label)) or ('B-' in current_label and 'I-' in next_label and (current_label[1:] == next_label[1:])):\n",
    "                    text += ' '\n",
    "                    continue\n",
    "                else:\n",
    "                    one_class = get_one_class(words, text, counter)\n",
    "                    annotation['form'].append(one_class)\n",
    "                    counter += 1\n",
    "                    words = []\n",
    "                    text = ''\n",
    "            with open(os.path.join(annotations_save_root, f'{file_name}.json'), 'w') as f:\n",
    "                json.dump(annotation, f)"
   ]
  },
  {
   "cell_type": "code",
   "execution_count": 5,
   "id": "f7bd4dee",
   "metadata": {},
   "outputs": [],
   "source": [
    "preparator = PrepareAnnotations('/home/berkiu/work/project-2-at-2022-10-06-11-15-c47ffc3c.json')"
   ]
  },
  {
   "cell_type": "code",
   "execution_count": 23,
   "id": "9c42ba60",
   "metadata": {},
   "outputs": [],
   "source": [
    "preparator.get_annotations()"
   ]
  }
 ],
 "metadata": {
  "kernelspec": {
   "display_name": "Python 3 (ipykernel)",
   "language": "python",
   "name": "python3"
  },
  "language_info": {
   "codemirror_mode": {
    "name": "ipython",
    "version": 3
   },
   "file_extension": ".py",
   "mimetype": "text/x-python",
   "name": "python",
   "nbconvert_exporter": "python",
   "pygments_lexer": "ipython3",
   "version": "3.8.10"
  }
 },
 "nbformat": 4,
 "nbformat_minor": 5
}
