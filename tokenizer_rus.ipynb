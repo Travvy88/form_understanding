{
 "cells": [
  {
   "cell_type": "code",
   "execution_count": 6,
   "id": "4a48e080",
   "metadata": {},
   "outputs": [],
   "source": [
    "import os\n",
    "from bs4 import BeautifulSoup\n",
    "import re\n",
    "from typing import Optional"
   ]
  },
  {
   "cell_type": "code",
   "execution_count": 2,
   "id": "3d97cf22",
   "metadata": {},
   "outputs": [],
   "source": [
    "data_root = '/home/berkiu/work/datasets/'"
   ]
  },
  {
   "cell_type": "code",
   "execution_count": 3,
   "id": "c74d8d33",
   "metadata": {},
   "outputs": [],
   "source": [
    "pdf_paths = [os.path.join(data_root, 'pdf', x) for x in os.listdir(os.path.join(data_root, 'pdf'))]\n",
    "npa_paths = [os.path.join(data_root, 'NPA', x) for x in os.listdir(os.path.join(data_root, 'NPA'))]"
   ]
  },
  {
   "cell_type": "code",
   "execution_count": 7,
   "id": "703948eb",
   "metadata": {},
   "outputs": [],
   "source": [
    "def send_request_raw(filename: str,\n",
    "                     parameters: dict = None) -> Optional[dict]:\n",
    "    \n",
    "    with open(filename, 'rb') as file:\n",
    "        files = {'file': (filename, file)}\n",
    "\n",
    "        r = requests.post(\"http://0.0.0.0:1231/upload\", files=files, data=parameters)\n",
    "\n",
    "        result = r.content.decode()\n",
    "        return result"
   ]
  },
  {
   "cell_type": "code",
   "execution_count": 5,
   "id": "af6dcf7f",
   "metadata": {},
   "outputs": [],
   "source": [
    "parameters = {\"pdf_with_text_layer\": \"auto\",\n",
    "              \"need_pdf_table_analysis\": \"false\",\n",
    "              \"return_format\": \"html\"}"
   ]
  },
  {
   "cell_type": "code",
   "execution_count": 6,
   "id": "ba1c89cd",
   "metadata": {},
   "outputs": [],
   "source": [
    "def text_extractor(filepath: str, parameters: dict = parameters) -> str:\n",
    "    html = send_request_raw(filepath, parameters)\n",
    "    soup = BeautifulSoup(html, 'html.parser')\n",
    "    text = soup.get_text()\n",
    "    text = re.sub(\"\\xa0\", \"\", text)\n",
    "    text = re.sub(r\"id = \\d+(\\.\\d+)* ; type = \\w+ *\", \"\", text)\n",
    "    return text"
   ]
  },
  {
   "cell_type": "code",
   "execution_count": null,
   "id": "6349fbde",
   "metadata": {},
   "outputs": [],
   "source": [
    "npa_texts = []\n",
    "\n",
    "#for path in pdf_paths:\n",
    "#    res += text_extractor(path)\n",
    "i = 0\n",
    "for path in npa_paths:\n",
    "    npa_texts.append(text_extractor(path))\n",
    "    if i == 20:\n",
    "        break\n",
    "    i += 1"
   ]
  },
  {
   "cell_type": "code",
   "execution_count": null,
   "id": "2fee7d8a",
   "metadata": {},
   "outputs": [],
   "source": [
    "res = ''\n",
    "for text in npa_texts:\n",
    "    res += text"
   ]
  },
  {
   "cell_type": "code",
   "execution_count": 14,
   "id": "dbb62d19",
   "metadata": {},
   "outputs": [],
   "source": [
    "with open(\"res.txt\", \"w\") as text_file:\n",
    "    text_file.write(res)"
   ]
  },
  {
   "cell_type": "code",
   "execution_count": 26,
   "id": "a38559fb",
   "metadata": {},
   "outputs": [],
   "source": [
    "from tokenizers import Tokenizer\n",
    "from tokenizers.models import WordPiece\n",
    "from tokenizers.trainers import WordPieceTrainer\n",
    "\n",
    "from tokenizers.pre_tokenizers import Whitespace\n",
    "from tokenizers.processors import TemplateProcessing"
   ]
  },
  {
   "cell_type": "code",
   "execution_count": 27,
   "id": "597dff29",
   "metadata": {},
   "outputs": [],
   "source": [
    "unk_token = \"[UNK]\"  # token for unknown words\n",
    "spl_tokens = [\"[UNK]\", \"[SEP]\", \"[PAD]\", \"[MASK]\", \"[CLS]\"]  # special tokens"
   ]
  },
  {
   "cell_type": "code",
   "execution_count": 28,
   "id": "3e7ef8a9",
   "metadata": {},
   "outputs": [],
   "source": [
    "tokenizer = Tokenizer(WordPiece(unk_token = unk_token))\n",
    "trainer = WordPieceTrainer(special_tokens = spl_tokens)\n",
    "\n",
    "tokenizer.pre_tokenizer = Whitespace()"
   ]
  },
  {
   "cell_type": "code",
   "execution_count": 30,
   "id": "eda98654",
   "metadata": {},
   "outputs": [],
   "source": [
    "files = [\"/home/berkiu/work/formunderstanding/res.txt\"]"
   ]
  },
  {
   "cell_type": "code",
   "execution_count": 31,
   "id": "74d26187",
   "metadata": {},
   "outputs": [
    {
     "name": "stdout",
     "output_type": "stream",
     "text": [
      "\n",
      "\n",
      "\n"
     ]
    }
   ],
   "source": [
    "tokenizer.train(files, trainer)"
   ]
  },
  {
   "cell_type": "code",
   "execution_count": 36,
   "id": "a126f9e7",
   "metadata": {},
   "outputs": [],
   "source": [
    "tokenizer.post_processor = TemplateProcessing(\n",
    "    single=\"[CLS] $A [SEP]\",\n",
    "    pair=\"[CLS] $A [SEP] $B:1 [SEP]:1\",\n",
    "    special_tokens=[\n",
    "        (\"[CLS]\", tokenizer.token_to_id(\"[CLS]\")),\n",
    "        (\"[SEP]\", tokenizer.token_to_id(\"[SEP]\")),\n",
    "    ],\n",
    ")"
   ]
  },
  {
   "cell_type": "code",
   "execution_count": 43,
   "id": "0bed07ec",
   "metadata": {},
   "outputs": [],
   "source": [
    "tokenizer.save(\"tokenizer.json\")\n",
    "\n",
    "with open(\"vocab.txt\", \"w\") as vocab:\n",
    "    for word in list(tokenizer.get_vocab().keys()):\n",
    "        vocab.write(f\"{word}\\n\")"
   ]
  },
  {
   "cell_type": "code",
   "execution_count": 37,
   "id": "9f3d5997",
   "metadata": {},
   "outputs": [],
   "source": [
    "out = tokenizer.encode(\"Заказчик оплатил сумму заказа\")"
   ]
  },
  {
   "cell_type": "code",
   "execution_count": 40,
   "id": "fb656e91",
   "metadata": {},
   "outputs": [
    {
     "data": {
      "text/plain": [
       "['[CLS]', 'Зак', '##аз', '##чик', 'оплат', '##ил', 'сумму', 'заказа', '[SEP]']"
      ]
     },
     "execution_count": 40,
     "metadata": {},
     "output_type": "execute_result"
    }
   ],
   "source": [
    "out.tokens"
   ]
  },
  {
   "cell_type": "code",
   "execution_count": 39,
   "id": "d789a657",
   "metadata": {},
   "outputs": [
    {
     "data": {
      "text/plain": [
       "'Зак ##аз ##чик оплат ##ил сумму заказа'"
      ]
     },
     "execution_count": 39,
     "metadata": {},
     "output_type": "execute_result"
    }
   ],
   "source": [
    "tokenizer.decode(out.ids)"
   ]
  }
 ],
 "metadata": {
  "kernelspec": {
   "display_name": "Python 3 (ipykernel)",
   "language": "python",
   "name": "python3"
  },
  "language_info": {
   "codemirror_mode": {
    "name": "ipython",
    "version": 3
   },
   "file_extension": ".py",
   "mimetype": "text/x-python",
   "name": "python",
   "nbconvert_exporter": "python",
   "pygments_lexer": "ipython3",
   "version": "3.8.10"
  }
 },
 "nbformat": 4,
 "nbformat_minor": 5
}
